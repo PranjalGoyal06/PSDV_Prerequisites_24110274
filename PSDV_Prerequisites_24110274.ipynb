{
  "nbformat": 4,
  "nbformat_minor": 0,
  "metadata": {
    "colab": {
      "provenance": [],
      "authorship_tag": "ABX9TyNYXNwDu4NJ2M6qZ2VMl8Uw",
      "include_colab_link": true
    },
    "kernelspec": {
      "name": "python3",
      "display_name": "Python 3"
    },
    "language_info": {
      "name": "python"
    }
  },
  "cells": [
    {
      "cell_type": "markdown",
      "metadata": {
        "id": "view-in-github",
        "colab_type": "text"
      },
      "source": [
        "<a href=\"https://colab.research.google.com/github/PranjalGoyal06/PSDV_Prerequisites_24110274/blob/main/PSDV_Prerequisites_24110274.ipynb\" target=\"_parent\"><img src=\"https://colab.research.google.com/assets/colab-badge.svg\" alt=\"Open In Colab\"/></a>"
      ]
    },
    {
      "cell_type": "markdown",
      "source": [
        "# Prerequisite Questions for Probability, Statistics, and Data Visualization"
      ],
      "metadata": {
        "id": "1FJrm3JZXvSo"
      }
    },
    {
      "cell_type": "markdown",
      "source": [
        "**1. List Operations and Basic Statistics:**\n",
        "\n",
        "*   Create a list of the first 20 natural numbers."
      ],
      "metadata": {
        "id": "115iqZHZWvtr"
      }
    },
    {
      "cell_type": "code",
      "source": [
        "nums = list(range(1, 21))"
      ],
      "metadata": {
        "id": "zgTmgbvce0ql"
      },
      "execution_count": 2,
      "outputs": []
    },
    {
      "cell_type": "markdown",
      "source": [
        "* Compute the sum of all even numbers in the list.\n",
        "* Compute the product of all odd numbers in the list."
      ],
      "metadata": {
        "id": "SNCL_qKGfPjl"
      }
    },
    {
      "cell_type": "code",
      "source": [
        "s, p = 0, 1\n",
        "for num in nums:\n",
        "    if num % 2 == 0:\n",
        "        s += num\n",
        "    else:\n",
        "        p *= num"
      ],
      "metadata": {
        "id": "ptqzgYUAgC_x"
      },
      "execution_count": 3,
      "outputs": []
    },
    {
      "cell_type": "markdown",
      "source": [
        "*   Calculate the mean, median, and standard deviation of the list."
      ],
      "metadata": {
        "id": "a9ISFbtVfR7R"
      }
    },
    {
      "cell_type": "code",
      "source": [
        "mean = sum(nums) / len(nums)\n",
        "\n",
        "nums.sort()\n",
        "median = nums[len(nums) // 2]  # Use of floor division doesn't require us to consider the parities of n.\n",
        "\n",
        "sd = (sum((num - mean) ** 2 for num in nums) / len(nums)) ** 0.5"
      ],
      "metadata": {
        "id": "K9uVPHBZgKrm"
      },
      "execution_count": 4,
      "outputs": []
    },
    {
      "cell_type": "markdown",
      "source": [
        "**2. Mutable vs. Immutable Data Types:**\n",
        "\n",
        "*   Explain the difference between mutable and immutable data types in Python\n",
        "*   Provide examples of each."
      ],
      "metadata": {
        "id": "vYc2vgYeZ3VY"
      }
    },
    {
      "cell_type": "markdown",
      "source": [
        "Mutable data types (like **lists, sets, dictionaries**) are the ones whose contents can be modified."
      ],
      "metadata": {
        "id": "0nPq7sXjtA6o"
      }
    },
    {
      "cell_type": "code",
      "source": [
        "# List\n",
        "l = [1, 2, 3]\n",
        "print(\"Original:\", *l)\n",
        "l[0] = 4        # Replacing an element\n",
        "l.append(5)      # Adding a new element\n",
        "print(\"Mutated:\", *l)"
      ],
      "metadata": {
        "colab": {
          "base_uri": "https://localhost:8080/"
        },
        "id": "SX9TIz9Msey0",
        "outputId": "dec5aba2-a31f-412d-952c-5f73284f171b"
      },
      "execution_count": 8,
      "outputs": [
        {
          "output_type": "stream",
          "name": "stdout",
          "text": [
            "Original: 1 2 3\n",
            "Mutated: 4 2 3 5\n"
          ]
        }
      ]
    },
    {
      "cell_type": "code",
      "source": [
        "# Dictionary\n",
        "capitals = {'USA': 'Washington D.C.', 'India': 'Delhi'}\n",
        "print(\"Original:\", capitals)\n",
        "capitals[\"India\"] = \"Mumbai\"    # Modifiying values of existing keys\n",
        "capitals[\"Russia\"] = \"Moscow\"   # Adding new key-value pairs\n",
        "print(\"Mutated:\", capitals)"
      ],
      "metadata": {
        "colab": {
          "base_uri": "https://localhost:8080/"
        },
        "id": "EPCARek9Dbbe",
        "outputId": "98d35acb-123a-446a-d392-059bdc333ebd"
      },
      "execution_count": 6,
      "outputs": [
        {
          "output_type": "stream",
          "name": "stdout",
          "text": [
            "Original: {'USA': 'Washington D.C.', 'India': 'Delhi'}\n",
            "Mutated: {'USA': 'Washington D.C.', 'India': 'Delhi', 'Russia': 'Moscow'}\n"
          ]
        }
      ]
    },
    {
      "cell_type": "markdown",
      "source": [
        "Immutable data types (like **tuples, strings**) are the ones whose values cannot be modified."
      ],
      "metadata": {
        "id": "3eAe32ClEdBx"
      }
    },
    {
      "cell_type": "code",
      "source": [
        "# String\n",
        "s = \"Hello, world!\"\n",
        "try:\n",
        "    s[0] = \"#\"\n",
        "except TypeError as e:\n",
        "    print(\"Error:\", e)"
      ],
      "metadata": {
        "colab": {
          "base_uri": "https://localhost:8080/"
        },
        "id": "tAMIGSojFAWz",
        "outputId": "c8d0047f-2b68-4e43-992c-6fc4ece2de2e"
      },
      "execution_count": 13,
      "outputs": [
        {
          "output_type": "stream",
          "name": "stdout",
          "text": [
            "Error: 'str' object does not support item assignment\n",
            "#ello, world!\n"
          ]
        }
      ]
    },
    {
      "cell_type": "code",
      "source": [
        "# Tuple\n",
        "tup = (1, 2, 3)\n",
        "try:\n",
        "    tup[0] = 4\n",
        "except TypeError as e:\n",
        "    print(\"Error:\", e)"
      ],
      "metadata": {
        "colab": {
          "base_uri": "https://localhost:8080/"
        },
        "id": "O1fUuEfrFo2o",
        "outputId": "3fdd3bf0-162c-488c-978d-30472dd4af51"
      },
      "execution_count": 14,
      "outputs": [
        {
          "output_type": "stream",
          "name": "stdout",
          "text": [
            "Error: 'tuple' object does not support item assignment\n"
          ]
        }
      ]
    },
    {
      "cell_type": "markdown",
      "source": [
        "One key thing to note is that operations like `s += \"a\"` or using string methods like `s.replace('H', '#')` are **not** considered \"mutation\". This is because what actually happens is that **a new string object is created in memory, and the original string remains unchanged**."
      ],
      "metadata": {
        "id": "G94aaQhjGEYS"
      }
    },
    {
      "cell_type": "markdown",
      "source": [
        "**3. Fibonacci Sequence:**\n",
        "* Write a Python function that takes a number n and returns a list of the first n Fibonacci numbers.\n",
        "* Plot the Fibonacci sequence using a line graph."
      ],
      "metadata": {
        "id": "VyA0o25IaQaF"
      }
    },
    {
      "cell_type": "code",
      "source": [
        "def fib(x): # Iterative approach\n",
        "    if x <= 0:\n",
        "        return []\n",
        "    a, b = 0, 1\n",
        "    fib_list = [a,b]\n",
        "    for _ in range(x):\n",
        "        fib_list.append(a+b)\n",
        "        a, b = b, a + b\n",
        "    return fib_list\n",
        "\n",
        "# Driver code\n",
        "n = int(input(\"Enter a number: \"))\n",
        "print(fib(n))"
      ],
      "metadata": {
        "colab": {
          "base_uri": "https://localhost:8080/"
        },
        "id": "UOdmSy0rHmYr",
        "outputId": "24e2ed23-481d-460c-b907-4856c0d57af6"
      },
      "execution_count": 22,
      "outputs": [
        {
          "output_type": "stream",
          "name": "stdout",
          "text": [
            "Enter a number: 30\n",
            "[0, 1, 1, 2, 3, 5, 8, 13, 21, 34, 55, 89, 144, 233, 377, 610, 987, 1597, 2584, 4181, 6765, 10946, 17711, 28657, 46368, 75025, 121393, 196418, 317811, 514229, 832040, 1346269]\n"
          ]
        }
      ]
    },
    {
      "cell_type": "code",
      "source": [
        "import matplotlib.pyplot as plt\n",
        "\n",
        "plt.plot(fib(n))\n",
        "plt.plot(fib(n),'o')\n",
        "plt.xlabel(\"Term\")\n",
        "plt.ylabel(\"Fibonacci Number\")\n",
        "plt.title(\"Fibonacci Sequence\")\n",
        "plt.show()"
      ],
      "metadata": {
        "colab": {
          "base_uri": "https://localhost:8080/",
          "height": 472
        },
        "id": "2mFZvzhRIlHi",
        "outputId": "e7f24ab6-dc29-438b-f344-f7c7b2c892f7"
      },
      "execution_count": 23,
      "outputs": [
        {
          "output_type": "display_data",
          "data": {
            "text/plain": [
              "<Figure size 640x480 with 1 Axes>"
            ],
            "image/png": "[encoded data removed]"
          },
          "metadata": {}
        }
      ]
    },
    {
      "cell_type": "markdown",
      "source": [
        "**4. List Manipulation:**  \n",
        "* Given a list `[3, 5, 7, 9, 11, 13]`:\n",
        "    * Insert `6` at the 3rd index (assuming zero-indexed).\n",
        "    * Remove the number `7` from the list.\n",
        "    * Reverse the list.\n",
        "    * Calculate the mean and median of the modified list."
      ],
      "metadata": {
        "id": "7crXwYjkakry"
      }
    },
    {
      "cell_type": "code",
      "source": [
        "l = [3, 5, 7, 9, 11, 13]\n",
        "l = l[:2] + [6] + l[2:]\n",
        "l.remove(7)\n",
        "l.reverse()\n",
        "\n",
        "mean = sum(l) / len(l)\n",
        "print(f\"Mean: {mean}\")\n",
        "\n",
        "l.sort()\n",
        "median = l[len(l) // 2]\n",
        "print(f\"Median: {median}\")"
      ],
      "metadata": {
        "colab": {
          "base_uri": "https://localhost:8080/"
        },
        "id": "VpVGz0cUJ56W",
        "outputId": "f5f0e71e-2a8d-4324-90e3-670ce5c23479"
      },
      "execution_count": 26,
      "outputs": [
        {
          "output_type": "stream",
          "name": "stdout",
          "text": [
            "Mean: 7.83\n",
            "Median: 9\n"
          ]
        }
      ]
    },
    {
      "cell_type": "markdown",
      "source": [
        "**5. User Input and Basic Statistics:**  \n",
        "* Write a program to read a comma-separated list of numbers from the user (e.g., “10, 20, 30, 40”).\n",
        "* Calculate the mean of the numbers.\n",
        "* Identify and print the smallest and largest numbers.\n",
        "* Plot a histogram of the numbers.\n"
      ],
      "metadata": {
        "id": "CJ5ppMlfbLxI"
      }
    },
    {
      "cell_type": "code",
      "source": [
        "nums = list(map(int, input(\"Enter a list of numbers separated by commas: \").split(\",\")))\n",
        "\n",
        "mean = sum(nums) / len(nums)\n",
        "print(f\"Mean: {mean}\")\n",
        "\n",
        "print(\"Smallest: \" + str(min(nums)))\n",
        "print(\"Largest: \" + str(max(nums)))"
      ],
      "metadata": {
        "colab": {
          "base_uri": "https://localhost:8080/"
        },
        "id": "y59jLVnvKtEY",
        "outputId": "71cd648c-916e-4f44-b0dd-1d54eebdd96f"
      },
      "execution_count": 28,
      "outputs": [
        {
          "output_type": "stream",
          "name": "stdout",
          "text": [
            "Enter a list of numbers separated by commas: 10,20,30,40\n",
            "Mean: 25.0\n",
            "Smallest: 10\n",
            "Largest: 40\n"
          ]
        }
      ]
    },
    {
      "cell_type": "code",
      "source": [
        "import matplotlib.pyplot as plt\n",
        "\n",
        "plt.hist(nums)\n",
        "plt.xlabel(\"Number\")\n",
        "plt.ylabel(\"Frequency\")\n",
        "plt.title(\"Histogram\")\n",
        "plt.show()"
      ],
      "metadata": {
        "colab": {
          "base_uri": "https://localhost:8080/",
          "height": 472
        },
        "id": "mxZ4EYD8LUx4",
        "outputId": "c803e414-bb61-4d79-af73-2cd0e87ace41"
      },
      "execution_count": 29,
      "outputs": [
        {
          "output_type": "display_data",
          "data": {
            "text/plain": [
              "<Figure size 640x480 with 1 Axes>"
            ],
            "image/png": "[encoded data removed]"
          },
          "metadata": {}
        }
      ]
    },
    {
      "cell_type": "markdown",
      "source": [
        "**6. Palindrome Check:**\n",
        "* Write a program to check if a string is a palindrome (ignoring spaces and case).\n",
        "* Input: `\"A man a plan a canal Panama\"`\n",
        "* Output: `True`"
      ],
      "metadata": {
        "id": "3yrJVx-JbWBU"
      }
    },
    {
      "cell_type": "code",
      "source": [
        "def isPalindrome(string):\n",
        "    string = string.lower().replace(\" \", \"\")\n",
        "    return string == string[::-1]\n",
        "\n",
        "s = input(\"Enter a string: \")\n",
        "print(isPalindrome(s))"
      ],
      "metadata": {
        "colab": {
          "base_uri": "https://localhost:8080/"
        },
        "id": "8ibbOxuLLcZB",
        "outputId": "3be2caf4-bc35-44eb-bbde-b5eaf3355845"
      },
      "execution_count": 30,
      "outputs": [
        {
          "output_type": "stream",
          "name": "stdout",
          "text": [
            "Enter a string: A man a plan a canal Panama\n",
            "True\n"
          ]
        }
      ]
    },
    {
      "cell_type": "markdown",
      "source": [
        "**7. Dictionary Operations:**\n",
        "* Create a dictionary of student names (keys) and their marks (values).\n",
        "* Compute the average marks.\n",
        "* Print the names of students scoring above the average.\n",
        "* Visualize the distribution of marks using a bar chart."
      ],
      "metadata": {
        "id": "-80FFDH9bocb"
      }
    },
    {
      "cell_type": "code",
      "source": [
        "student_marks = {\"Harry\": 85, \"Ron\": 80, \"Hermione\": 89}\n",
        "\n",
        "avg_marks = sum(student_marks.values()) / len(student_marks)\n",
        "\n",
        "above_avg = [name for name, marks in student_marks.items() if marks > avg_marks]"
      ],
      "metadata": {
        "id": "mu3-ku14Mjtw"
      },
      "execution_count": 33,
      "outputs": []
    },
    {
      "cell_type": "code",
      "source": [
        "from matplotlib import pyplot as plt\n",
        "\n",
        "plt.bar(student_marks.keys(), student_marks.values())\n",
        "plt.xlabel(\"Student\")\n",
        "plt.ylabel(\"Marks\")\n",
        "plt.title(\"Distribution of Marks\")\n",
        "plt.show()"
      ],
      "metadata": {
        "colab": {
          "base_uri": "https://localhost:8080/",
          "height": 472
        },
        "id": "mKpqKFnmOEkN",
        "outputId": "ef40f849-5020-49ac-ac15-cdc0049a4a6e"
      },
      "execution_count": 34,
      "outputs": [
        {
          "output_type": "display_data",
          "data": {
            "text/plain": [
              "<Figure size 640x480 with 1 Axes>"
            ],
            "image/png": "[encoded data removed]"
          },
          "metadata": {}
        }
      ]
    },
    {
      "cell_type": "markdown",
      "source": [
        "**8. Tuple List Creation:**\n",
        "* Create a list of tuples, where each tuple contains a number and its square (e.g., `[(1, 1), (2, 4), (3, 9), ...]` for numbers 1 to 10).\n",
        "* Plot the numbers and their squares on a scatter plot."
      ],
      "metadata": {
        "id": "Q2ixDDaTbwCa"
      }
    },
    {
      "cell_type": "code",
      "source": [
        "l = [(i, i**2) for i in range(1, 11)]\n",
        "\n",
        "x = [i for i, _ in l]\n",
        "y = [j for _, j in l]\n",
        "\n",
        "plt.scatter(x, y)\n",
        "plt.xlabel(\"Number\")\n",
        "plt.ylabel(\"Square\")\n",
        "plt.title(\"Scatter Plot\")\n",
        "plt.show()"
      ],
      "metadata": {
        "colab": {
          "base_uri": "https://localhost:8080/",
          "height": 472
        },
        "id": "r6LQxn6SOb0b",
        "outputId": "2ffdbeb1-1aaf-4035-dc84-fd58de80aa1b"
      },
      "execution_count": 35,
      "outputs": [
        {
          "output_type": "display_data",
          "data": {
            "text/plain": [
              "<Figure size 640x480 with 1 Axes>"
            ],
            "image/png": "[encoded data removed]"
          },
          "metadata": {}
        }
      ]
    },
    {
      "cell_type": "markdown",
      "source": [
        "**9. Merging Dictionaries:**\n",
        "* Write Python code to merge two dictionaries. If a key is present in both, sum their values.\n",
        "* Example:\n",
        "    ```\n",
        "dict1 = {'a': 10, 'b': 20}\n",
        "dict2 = {'b': 5, 'c': 15}\n",
        "Output: {'a': 10, 'b': 25, 'c': 15}\n",
        "    ```"
      ],
      "metadata": {
        "id": "f6weH_ccccBH"
      }
    },
    {
      "cell_type": "code",
      "source": [
        "def mergeDicts(dict1, dict2):\n",
        "    merged = dict1.copy()\n",
        "    for key, value in dict2.items():\n",
        "        if key in merged:\n",
        "            merged[key] += value\n",
        "        else:\n",
        "            merged[key] = value\n",
        "    return merged\n",
        "\n",
        "dict1 = {'a': 10, 'b': 20}\n",
        "dict2 = {'b': 5, 'c': 15}\n",
        "print(mergeDicts(dict1, dict2))"
      ],
      "metadata": {
        "colab": {
          "base_uri": "https://localhost:8080/"
        },
        "id": "_3qtDQRXPNzA",
        "outputId": "8b0875fd-f0ab-4566-9b1a-9a18364a57b4"
      },
      "execution_count": 36,
      "outputs": [
        {
          "output_type": "stream",
          "name": "stdout",
          "text": [
            "{'a': 10, 'b': 25, 'c': 15}\n"
          ]
        }
      ]
    },
    {
      "cell_type": "markdown",
      "source": [
        "**10. Character Frequency:**\n",
        "* Write a function that accepts a string and:\n",
        "    * Converts all characters to lowercase.\n",
        "    * Counts the frequency of each character.\n",
        "    * Returns a dictionary with characters as keys and their counts as values.\n",
        "    * Visualize the character frequencies using a bar chart."
      ],
      "metadata": {
        "id": "-LxMWd7acuYz"
      }
    },
    {
      "cell_type": "markdown",
      "source": [
        "**11. Remove Duplicates:**\n",
        "* Write a program to remove duplicate elements from a list while maintaining the order of elements.\n",
        "* Calculate the mean and median of the unique elements."
      ],
      "metadata": {
        "id": "UjOWkdOcc9Kl"
      }
    },
    {
      "cell_type": "markdown",
      "source": [
        "**12. String Operations:**\n",
        "* Given a list of strings, write a Python function to:\n",
        "    * Find the longest string.\n",
        "    * Count how many strings start with a vowel.\n",
        "    * Visualize the distribution of string lengths using a histogram."
      ],
      "metadata": {
        "id": "EwPJQL40dBGr"
      }
    },
    {
      "cell_type": "markdown",
      "source": [
        "**13. Sorting Dictionaries:**\n",
        "* Write a function to sort a list of dictionaries by a key.\n",
        "* Example:\n",
        "```\n",
        "data = [{'name': 'Alice', 'age': 25}, {'name': 'Bob', 'age': 22}]\n",
        "Sort by age → [{'name': 'Bob', 'age': 22}, {'name': 'Alice', 'age': 25}]\n",
        "```"
      ],
      "metadata": {
        "id": "6-ccqnuzdKVr"
      }
    },
    {
      "cell_type": "markdown",
      "source": [
        "**14. Word Filtering and Sorting:**\n",
        "* Write a program to:\n",
        "    * Split a string into a list of words.\n",
        "    * Remove all words that are shorter than 4 characters.\n",
        "    * Sort the remaining words alphabetically.\n",
        "    * Visualize the word lengths using a bar chart."
      ],
      "metadata": {
        "id": "7gVALFpTdWOG"
      }
    },
    {
      "cell_type": "markdown",
      "source": [
        "**15. Anagram Finder:**\n",
        "* Write a Python function to find all anagrams of a word in a given list.\n",
        "* Input: word = \"listen\", words = `[\"enlist\", \"google\", \"inlets\", \"banana\"]`\n",
        "* Output: `[\"enlist\", \"inlets\"]`"
      ],
      "metadata": {
        "id": "rhOQXnYZdgqN"
      }
    },
    {
      "cell_type": "markdown",
      "source": [
        "**16. Set Operations:**\n",
        "* Given two lists, write Python code to find their intersection, union, and symmetric difference.\n",
        "* Visualize the results using Venn diagrams."
      ],
      "metadata": {
        "id": "pfe3_0kddybO"
      }
    },
    {
      "cell_type": "markdown",
      "source": [
        "**17. File Operations:**\n",
        "* Write Python code to:\n",
        "    * Create a text file.\n",
        "    * Write a list of numbers to the file (one per line).\n",
        "    * Read the file and compute their sum"
      ],
      "metadata": {
        "id": "lAVCu0uad4Sh"
      }
    },
    {
      "cell_type": "markdown",
      "source": [
        "**18. Word Count and Frequency:**\n",
        "* Write a program to:\n",
        "    * Read a file and count the number of words in it.\n",
        "    * Find the most frequent word.\n",
        "    * Visualize the word frequencies using a bar chart."
      ],
      "metadata": {
        "id": "H1bHc0fFd_wA"
      }
    },
    {
      "cell_type": "markdown",
      "source": [
        "**19. Random Number Generation:**\n",
        "* Write a Python program to:\n",
        "    * Generate 100 random integers between 1 and 50.\n",
        "    * Save them in a text file, one per line.\n",
        "    * Read the file and compute the mean of the numbers.\n",
        "    * Visualize the distribution of the numbers using a histogram."
      ],
      "metadata": {
        "id": "2kcVT0GUeI47"
      }
    },
    {
      "cell_type": "markdown",
      "source": [
        "**20. CSV File Operations:**\n",
        "* Write Python code to read a CSV file and compute the sum of values in a specific column.\n",
        "* Visualize the data using a line plot."
      ],
      "metadata": {
        "id": "sMeD004heT9k"
      }
    },
    {
      "cell_type": "markdown",
      "source": [
        "**21. Basic Statistics:**\n",
        "* Write Python code to calculate:\n",
        "    * Mean, median, mode, and standard deviation of a list of numbers.\n",
        "    * Visualize the data using a box plot."
      ],
      "metadata": {
        "id": "vbqT_5iGeXrq"
      }
    },
    {
      "cell_type": "markdown",
      "source": [
        "**22. Normalization:**\n",
        "* Write a Python function to normalize a list of numbers to a range of 0 to 1.\n",
        "* Visualize the normalized data using a line plot."
      ],
      "metadata": {
        "id": "_-CSxd-Red7J"
      }
    },
    {
      "cell_type": "markdown",
      "source": [
        "**23. Even or Odd:**\n",
        "* Write a Python program that takes an integer input from the user and prints whether the number is even or odd."
      ],
      "metadata": {
        "id": "zsHBLaRlejPG"
      }
    },
    {
      "cell_type": "markdown",
      "source": [
        "**24. Grade Calculator:**\n",
        "* Write a Python program that takes a numerical grade (0-100) as input and prints the corresponding letter grade (A, B, C, D, F)."
      ],
      "metadata": {
        "id": "OgZIYGt2ened"
      }
    },
    {
      "cell_type": "markdown",
      "source": [
        "**25. Leap Year Checker:**\n",
        "* Write a Python program that takes a year as input and checks if it is a leap year."
      ],
      "metadata": {
        "id": "L-pf57XNevBx"
      }
    },
    {
      "cell_type": "code",
      "source": [],
      "metadata": {
        "id": "wx00V5tQex8O"
      },
      "execution_count": null,
      "outputs": []
    }
  ]
}